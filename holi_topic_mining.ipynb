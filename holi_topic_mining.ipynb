{
 "cells": [
  {
   "cell_type": "code",
   "execution_count": 2,
   "metadata": {
    "collapsed": false
   },
   "outputs": [],
   "source": [
    "import pandas as pd\n",
    "import matplotlib.pyplot as plt\n",
    "%matplotlib inline\n",
    "import json\n",
    "\n",
    "tweets_data_path = './holi dataset/data.txt'\n",
    "\n",
    "tweets_data = []\n",
    "tweets_file = open(tweets_data_path, \"r\")\n",
    "for line in tweets_file:\n",
    "    try:\n",
    "        tweet = json.loads(line)\n",
    "        tweets_data.append(tweet)\n",
    "    except:\n",
    "        continue"
   ]
  },
  {
   "cell_type": "code",
   "execution_count": 3,
   "metadata": {
    "collapsed": false
   },
   "outputs": [
    {
     "name": "stdout",
     "output_type": "stream",
     "text": [
      "4978\n"
     ]
    }
   ],
   "source": [
    "print (len(tweets_data))"
   ]
  },
  {
   "cell_type": "code",
   "execution_count": 4,
   "metadata": {
    "collapsed": false
   },
   "outputs": [],
   "source": [
    "tweets = pd.DataFrame()\n",
    "# tweets['text'] = list(map(lambda tweet: tweet['text'], tweets_data))\n",
    "tweets['text'] = [tweet.get('text','') for tweet in tweets_data]\n",
    "# tweets['lang'] = list(map(lambda tweet: tweet['lang'], tweets_data))\n",
    "# tweets['lang'] = [tweet.get('lang','') for tweet in tweets_data]\n",
    "# tweets['country'] = list(map(lambda tweet: tweet['place']['country'] if tweet['place'] != None else None, tweets_data))"
   ]
  },
  {
   "cell_type": "code",
   "execution_count": 5,
   "metadata": {
    "collapsed": false
   },
   "outputs": [
    {
     "name": "stdout",
     "output_type": "stream",
     "text": [
      "Topic #0:\n",
      "rt like special holi holi2017 way holihai song holifestivalofcolours moments bapuji heart pichkari morning memories set balam kashmir initiative hrc34\n",
      "Topic #1:\n",
      "holi happy https rt happyholi enjoy pic iamsrk guys dear msgwishinghappyholi blessed festival colors stay man insan_honey hope fun wishes\n",
      "Topic #2:\n",
      "holi rt festival narendramodi happy https life मन happiness पर amp color colours joy भक colors greetings spread सभ holy\n",
      "Topic #3:\n",
      "holi https rt india festival delhi amp water celebrations celebrated hindu world women time year forced arvindkejriwal amid harassment sexual\n",
      "Topic #4:\n",
      "sir amitshah rt bjp nation wishing https party huge support bless entire venue chh7pctm6h big congratulations nd indians ne manipur\n",
      "Topic #5:\n",
      "holi rt https love glorioushknkj wishing colorful happy amp insan_honey wonderful festival s1dharthm party aliaa08 lovely beautiful people feel thank\n",
      "Topic #6:\n",
      "holi https rt festival hai ki celebration happy rang celebrate ke holifestival spring indian 2017 se hindu ko amp happyholi\n",
      "Topic #7:\n",
      "holi rt https happy ji vedicholihealthyholi amp colours happyholi asaram colors gurmeetramrahim wish palash colourful safe play vedic celebrate playing\n",
      "Topic #8:\n",
      "happy holi rt gurmeetramrahim msgwishestoarmedforces amp hind jai armed forces courageous honor valiantly defend http little https colour long iamsrk\n",
      "Topic #9:\n",
      "https holi rt celebrating know vedicholihealthyholi akshaykumar बह main vedic kare ka miss sab ke enjoying home anand sanchaar jeevan\n",
      "\n"
     ]
    }
   ],
   "source": [
    "from sklearn.feature_extraction.text import TfidfVectorizer, CountVectorizer\n",
    "from sklearn.decomposition import NMF, LatentDirichletAllocation\n",
    "\n",
    "data_samples = tweets['text']\n",
    "n_features = 1000\n",
    "n_topics = 10\n",
    "n_top_words = 20\n",
    "\n",
    "def print_top_words(model, feature_names, n_top_words):\n",
    "    for topic_idx, topic in enumerate(model.components_):\n",
    "        print(\"Topic #%d:\" % topic_idx)\n",
    "        print(\" \".join([feature_names[i]\n",
    "                        for i in topic.argsort()[:-n_top_words - 1:-1]]))\n",
    "    print()\n",
    "\n",
    "tf_vectorizer = CountVectorizer(max_df=0.95, min_df=2, max_features=n_features, stop_words='english')\n",
    "tf = tf_vectorizer.fit_transform(data_samples)\n",
    "\n",
    "lda = LatentDirichletAllocation(n_topics=n_topics, max_iter=5, learning_method='online', learning_offset=50., random_state=0)\n",
    "lda.fit(tf)\n",
    "\n",
    "tf_feature_names = tf_vectorizer.get_feature_names()\n",
    "print_top_words(lda, tf_feature_names, n_top_words)"
   ]
  },
  {
   "cell_type": "code",
   "execution_count": null,
   "metadata": {
    "collapsed": true
   },
   "outputs": [],
   "source": []
  }
 ],
 "metadata": {
  "kernelspec": {
   "display_name": "Python 3",
   "language": "python",
   "name": "python3"
  },
  "language_info": {
   "codemirror_mode": {
    "name": "ipython",
    "version": 3
   },
   "file_extension": ".py",
   "mimetype": "text/x-python",
   "name": "python",
   "nbconvert_exporter": "python",
   "pygments_lexer": "ipython3",
   "version": "3.6.0"
  }
 },
 "nbformat": 4,
 "nbformat_minor": 2
}
